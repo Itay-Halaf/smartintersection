{
 "cells": [
  {
   "cell_type": "code",
   "execution_count": 1,
   "metadata": {},
   "outputs": [],
   "source": [
    "import paho.mqtt.client as mqtt\n",
    "import sys\n",
    "import time\n",
    "import json"
   ]
  },
  {
   "cell_type": "code",
   "execution_count": 2,
   "metadata": {},
   "outputs": [
    {
     "name": "stdout",
     "output_type": "stream",
     "text": [
      "Connected to broker\n"
     ]
    }
   ],
   "source": [
    "client = mqtt.Client(\"SmartIntersection\")\n",
    "\n",
    "connection = client.connect(\"localhost\",1883,60)\n",
    "if connection != 0:\n",
    "    print(\"Could not connect to MQTT Broker!\")\n",
    "    sys.exit(-1)\n",
    "else: print(\"Connected to broker\")"
   ]
  },
  {
   "cell_type": "code",
   "execution_count": 3,
   "metadata": {},
   "outputs": [],
   "source": [
    "def on_connect(client, userdata, flags, rc):\n",
    "    if rc == 0:\n",
    "        print(\"Connected to MQTT Broker\")\n",
    "        # Subscribe to topics here if needed\n",
    "    else:\n",
    "        print(f\"Failed to connect, return code: {rc}\")\n"
   ]
  },
  {
   "cell_type": "code",
   "execution_count": 4,
   "metadata": {},
   "outputs": [],
   "source": [
    "def on_message(client, userdata, message):\n",
    "    # Callback for handling incoming messages on subscribed topics\n",
    "    topic = message.topic\n",
    "    payload = message.payload.decode(\"utf-8\")\n",
    "    print(f\"Received message on topic '{topic}': {payload}\")"
   ]
  },
  {
   "cell_type": "code",
   "execution_count": 5,
   "metadata": {},
   "outputs": [],
   "source": [
    "def setup_mqtt_client():\n",
    "    # Set up the MQTT client\n",
    "    client.on_connect = on_connect\n",
    "    client.on_message = on_message\n",
    "\n",
    "    # Connect to the MQTT broker\n",
    "    broker_address = \"localhost\"\n",
    "    client.connect(broker_address, port=1883, keepalive=60)\n"
   ]
  },
  {
   "cell_type": "code",
   "execution_count": 6,
   "metadata": {},
   "outputs": [],
   "source": [
    "def publish_dictionary_as_message(topic, data):\n",
    "    json_message = json.dumps(data)\n",
    "    client.publish(topic, json_message, qos=0)"
   ]
  },
  {
   "cell_type": "code",
   "execution_count": 7,
   "metadata": {},
   "outputs": [],
   "source": [
    "def publish_message(topic, message):\n",
    "    client.publish(topic, message, qos=0)\n",
    "    return message\n"
   ]
  },
  {
   "cell_type": "code",
   "execution_count": 8,
   "metadata": {},
   "outputs": [],
   "source": [
    "def subscribe_to_topic(topic):\n",
    "    # Subscribe to a topic\n",
    "    client.subscribe(topic)\n"
   ]
  },
  {
   "cell_type": "code",
   "execution_count": 9,
   "metadata": {},
   "outputs": [],
   "source": [
    "setup_mqtt_client()"
   ]
  },
  {
   "cell_type": "code",
   "execution_count": 11,
   "metadata": {},
   "outputs": [],
   "source": [
    "broker_host = \"localhost\"\n",
    "topic = \"intersection\"\n",
    "publish_message(topic, \"Meow\")\n",
    "message_data = {\"new ramzor\" :{\"light\": \"Green\"}}\n",
    "publish_dictionary_as_message(topic, message_data)\n",
    "#subscribe_to_topic(\"test/status\")"
   ]
  },
  {
   "cell_type": "code",
   "execution_count": 10,
   "metadata": {},
   "outputs": [],
   "source": [
    "subscribe_to_topic(topic)\n",
    "\n",
    "\n",
    "#shtok(\"Green\")\n"
   ]
  },
  {
   "cell_type": "code",
   "execution_count": 59,
   "metadata": {},
   "outputs": [
    {
     "name": "stdout",
     "output_type": "stream",
     "text": [
      "Connected to MQTT Broker\n"
     ]
    },
    {
     "ename": "KeyboardInterrupt",
     "evalue": "",
     "output_type": "error",
     "traceback": [
      "\u001b[1;31m---------------------------------------------------------------------------\u001b[0m",
      "\u001b[1;31mKeyboardInterrupt\u001b[0m                         Traceback (most recent call last)",
      "\u001b[1;32mc:\\repos\\IOT\\main.ipynb Cell 11\u001b[0m in \u001b[0;36m<cell line: 1>\u001b[1;34m()\u001b[0m\n\u001b[1;32m----> <a href='vscode-notebook-cell:/c%3A/repos/IOT/main.ipynb#X16sZmlsZQ%3D%3D?line=0'>1</a>\u001b[0m client\u001b[39m.\u001b[39;49mloop_forever()\n",
      "File \u001b[1;32mc:\\Users\\itayh\\AppData\\Local\\Programs\\Python\\Python310\\lib\\site-packages\\paho\\mqtt\\client.py:1756\u001b[0m, in \u001b[0;36mClient.loop_forever\u001b[1;34m(self, timeout, max_packets, retry_first_connection)\u001b[0m\n\u001b[0;32m   1754\u001b[0m rc \u001b[39m=\u001b[39m MQTT_ERR_SUCCESS\n\u001b[0;32m   1755\u001b[0m \u001b[39mwhile\u001b[39;00m rc \u001b[39m==\u001b[39m MQTT_ERR_SUCCESS:\n\u001b[1;32m-> 1756\u001b[0m     rc \u001b[39m=\u001b[39m \u001b[39mself\u001b[39;49m\u001b[39m.\u001b[39;49m_loop(timeout)\n\u001b[0;32m   1757\u001b[0m     \u001b[39m# We don't need to worry about locking here, because we've\u001b[39;00m\n\u001b[0;32m   1758\u001b[0m     \u001b[39m# either called loop_forever() when in single threaded mode, or\u001b[39;00m\n\u001b[0;32m   1759\u001b[0m     \u001b[39m# in multi threaded mode when loop_stop() has been called and\u001b[39;00m\n\u001b[0;32m   1760\u001b[0m     \u001b[39m# so no other threads can access _out_packet or _messages.\u001b[39;00m\n\u001b[0;32m   1761\u001b[0m     \u001b[39mif\u001b[39;00m (\u001b[39mself\u001b[39m\u001b[39m.\u001b[39m_thread_terminate \u001b[39mis\u001b[39;00m \u001b[39mTrue\u001b[39;00m\n\u001b[0;32m   1762\u001b[0m         \u001b[39mand\u001b[39;00m \u001b[39mlen\u001b[39m(\u001b[39mself\u001b[39m\u001b[39m.\u001b[39m_out_packet) \u001b[39m==\u001b[39m \u001b[39m0\u001b[39m\n\u001b[0;32m   1763\u001b[0m             \u001b[39mand\u001b[39;00m \u001b[39mlen\u001b[39m(\u001b[39mself\u001b[39m\u001b[39m.\u001b[39m_out_messages) \u001b[39m==\u001b[39m \u001b[39m0\u001b[39m):\n",
      "File \u001b[1;32mc:\\Users\\itayh\\AppData\\Local\\Programs\\Python\\Python310\\lib\\site-packages\\paho\\mqtt\\client.py:1150\u001b[0m, in \u001b[0;36mClient._loop\u001b[1;34m(self, timeout)\u001b[0m\n\u001b[0;32m   1147\u001b[0m     rlist \u001b[39m=\u001b[39m [\u001b[39mself\u001b[39m\u001b[39m.\u001b[39m_sock, \u001b[39mself\u001b[39m\u001b[39m.\u001b[39m_sockpairR]\n\u001b[0;32m   1149\u001b[0m \u001b[39mtry\u001b[39;00m:\n\u001b[1;32m-> 1150\u001b[0m     socklist \u001b[39m=\u001b[39m select\u001b[39m.\u001b[39;49mselect(rlist, wlist, [], timeout)\n\u001b[0;32m   1151\u001b[0m \u001b[39mexcept\u001b[39;00m \u001b[39mTypeError\u001b[39;00m:\n\u001b[0;32m   1152\u001b[0m     \u001b[39m# Socket isn't correct type, in likelihood connection is lost\u001b[39;00m\n\u001b[0;32m   1153\u001b[0m     \u001b[39mreturn\u001b[39;00m MQTT_ERR_CONN_LOST\n",
      "\u001b[1;31mKeyboardInterrupt\u001b[0m: "
     ]
    }
   ],
   "source": [
    "client.loop_forever()"
   ]
  }
 ],
 "metadata": {
  "kernelspec": {
   "display_name": "Python 3",
   "language": "python",
   "name": "python3"
  },
  "language_info": {
   "codemirror_mode": {
    "name": "ipython",
    "version": 3
   },
   "file_extension": ".py",
   "mimetype": "text/x-python",
   "name": "python",
   "nbconvert_exporter": "python",
   "pygments_lexer": "ipython3",
   "version": "3.10.4"
  },
  "orig_nbformat": 4
 },
 "nbformat": 4,
 "nbformat_minor": 2
}
